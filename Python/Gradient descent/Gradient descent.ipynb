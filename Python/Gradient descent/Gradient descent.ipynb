{
 "cells": [
  {
   "attachments": {
    "Screen%20Shot%202021-03-25%20at%2022.45.10.png": {
     "image/png": "[encoded data removed]"
    }
   },
   "cell_type": "markdown",
   "id": "intensive-feeling",
   "metadata": {},
   "source": [
    "### Problem\n",
    "Dataset is departure data for one of the airports in the USA. Goal is to build model that optimizes two following loss functions using gradient descent and stochastic gradient descent:\n",
    "![Screen%20Shot%202021-03-25%20at%2022.45.10.png](attachment:Screen%20Shot%202021-03-25%20at%2022.45.10.png)"
   ]
  },
  {
   "attachments": {
    "Screen%20Shot%202021-03-25%20at%2022.45.13.png": {
     "image/png": "[encoded data removed]"
    }
   },
   "cell_type": "markdown",
   "id": "shaped-circus",
   "metadata": {},
   "source": [
    "![Screen%20Shot%202021-03-25%20at%2022.45.13.png](attachment:Screen%20Shot%202021-03-25%20at%2022.45.13.png)"
   ]
  },
  {
   "cell_type": "code",
   "execution_count": 72,
   "id": "moral-diary",
   "metadata": {},
   "outputs": [],
   "source": [
    "import numpy as np\n",
    "import pandas as pd\n",
    "from sklearn.preprocessing import StandardScaler\n",
    "from sklearn.model_selection import train_test_split\n",
    "from sklearn.linear_model import LinearRegression, LassoCV, RidgeCV\n",
    "from sklearn.metrics import mean_squared_error\n",
    "import matplotlib.pyplot as plt\n",
    "import time"
   ]
  },
  {
   "cell_type": "markdown",
   "id": "adaptive-injury",
   "metadata": {},
   "source": [
    "### Loading and processing data"
   ]
  },
  {
   "cell_type": "code",
   "execution_count": 3,
   "id": "acute-overall",
   "metadata": {},
   "outputs": [
    {
     "data": {
      "text/html": [
       "<div>\n",
       "<style scoped>\n",
       "    .dataframe tbody tr th:only-of-type {\n",
       "        vertical-align: middle;\n",
       "    }\n",
       "\n",
       "    .dataframe tbody tr th {\n",
       "        vertical-align: top;\n",
       "    }\n",
       "\n",
       "    .dataframe thead th {\n",
       "        text-align: right;\n",
       "    }\n",
       "</style>\n",
       "<table border=\"1\" class=\"dataframe\">\n",
       "  <thead>\n",
       "    <tr style=\"text-align: right;\">\n",
       "      <th></th>\n",
       "      <th>Year</th>\n",
       "      <th>Month</th>\n",
       "      <th>DayofMonth</th>\n",
       "      <th>DayOfWeek</th>\n",
       "      <th>DepTime</th>\n",
       "      <th>CRSDepTime</th>\n",
       "      <th>ArrTime</th>\n",
       "      <th>CRSArrTime</th>\n",
       "      <th>UniqueCarrier</th>\n",
       "      <th>FlightNum</th>\n",
       "      <th>...</th>\n",
       "      <th>TaxiIn</th>\n",
       "      <th>TaxiOut</th>\n",
       "      <th>Cancelled</th>\n",
       "      <th>CancellationCode</th>\n",
       "      <th>Diverted</th>\n",
       "      <th>CarrierDelay</th>\n",
       "      <th>WeatherDelay</th>\n",
       "      <th>NASDelay</th>\n",
       "      <th>SecurityDelay</th>\n",
       "      <th>LateAircraftDelay</th>\n",
       "    </tr>\n",
       "  </thead>\n",
       "  <tbody>\n",
       "    <tr>\n",
       "      <th>0</th>\n",
       "      <td>2008</td>\n",
       "      <td>6</td>\n",
       "      <td>18</td>\n",
       "      <td>3</td>\n",
       "      <td>2111.0</td>\n",
       "      <td>2055</td>\n",
       "      <td>2308.0</td>\n",
       "      <td>2300</td>\n",
       "      <td>WN</td>\n",
       "      <td>242</td>\n",
       "      <td>...</td>\n",
       "      <td>3.0</td>\n",
       "      <td>8.0</td>\n",
       "      <td>0</td>\n",
       "      <td>NaN</td>\n",
       "      <td>0</td>\n",
       "      <td>NaN</td>\n",
       "      <td>NaN</td>\n",
       "      <td>NaN</td>\n",
       "      <td>NaN</td>\n",
       "      <td>NaN</td>\n",
       "    </tr>\n",
       "    <tr>\n",
       "      <th>1</th>\n",
       "      <td>2008</td>\n",
       "      <td>6</td>\n",
       "      <td>4</td>\n",
       "      <td>3</td>\n",
       "      <td>1426.0</td>\n",
       "      <td>1410</td>\n",
       "      <td>1730.0</td>\n",
       "      <td>1728</td>\n",
       "      <td>XE</td>\n",
       "      <td>2380</td>\n",
       "      <td>...</td>\n",
       "      <td>4.0</td>\n",
       "      <td>12.0</td>\n",
       "      <td>0</td>\n",
       "      <td>NaN</td>\n",
       "      <td>0</td>\n",
       "      <td>NaN</td>\n",
       "      <td>NaN</td>\n",
       "      <td>NaN</td>\n",
       "      <td>NaN</td>\n",
       "      <td>NaN</td>\n",
       "    </tr>\n",
       "    <tr>\n",
       "      <th>2</th>\n",
       "      <td>2008</td>\n",
       "      <td>8</td>\n",
       "      <td>3</td>\n",
       "      <td>7</td>\n",
       "      <td>1143.0</td>\n",
       "      <td>1145</td>\n",
       "      <td>1501.0</td>\n",
       "      <td>1520</td>\n",
       "      <td>WN</td>\n",
       "      <td>1769</td>\n",
       "      <td>...</td>\n",
       "      <td>4.0</td>\n",
       "      <td>9.0</td>\n",
       "      <td>0</td>\n",
       "      <td>NaN</td>\n",
       "      <td>0</td>\n",
       "      <td>NaN</td>\n",
       "      <td>NaN</td>\n",
       "      <td>NaN</td>\n",
       "      <td>NaN</td>\n",
       "      <td>NaN</td>\n",
       "    </tr>\n",
       "    <tr>\n",
       "      <th>3</th>\n",
       "      <td>2008</td>\n",
       "      <td>1</td>\n",
       "      <td>23</td>\n",
       "      <td>3</td>\n",
       "      <td>1141.0</td>\n",
       "      <td>1144</td>\n",
       "      <td>1323.0</td>\n",
       "      <td>1335</td>\n",
       "      <td>OO</td>\n",
       "      <td>3802</td>\n",
       "      <td>...</td>\n",
       "      <td>4.0</td>\n",
       "      <td>19.0</td>\n",
       "      <td>0</td>\n",
       "      <td>NaN</td>\n",
       "      <td>0</td>\n",
       "      <td>NaN</td>\n",
       "      <td>NaN</td>\n",
       "      <td>NaN</td>\n",
       "      <td>NaN</td>\n",
       "      <td>NaN</td>\n",
       "    </tr>\n",
       "    <tr>\n",
       "      <th>4</th>\n",
       "      <td>2008</td>\n",
       "      <td>5</td>\n",
       "      <td>4</td>\n",
       "      <td>7</td>\n",
       "      <td>815.0</td>\n",
       "      <td>820</td>\n",
       "      <td>1243.0</td>\n",
       "      <td>1300</td>\n",
       "      <td>WN</td>\n",
       "      <td>399</td>\n",
       "      <td>...</td>\n",
       "      <td>4.0</td>\n",
       "      <td>8.0</td>\n",
       "      <td>0</td>\n",
       "      <td>NaN</td>\n",
       "      <td>0</td>\n",
       "      <td>NaN</td>\n",
       "      <td>NaN</td>\n",
       "      <td>NaN</td>\n",
       "      <td>NaN</td>\n",
       "      <td>NaN</td>\n",
       "    </tr>\n",
       "  </tbody>\n",
       "</table>\n",
       "<p>5 rows × 29 columns</p>\n",
       "</div>"
      ],
      "text/plain": [
       "   Year  Month  DayofMonth  DayOfWeek  DepTime  CRSDepTime  ArrTime  \\\n",
       "0  2008      6          18          3   2111.0        2055   2308.0   \n",
       "1  2008      6           4          3   1426.0        1410   1730.0   \n",
       "2  2008      8           3          7   1143.0        1145   1501.0   \n",
       "3  2008      1          23          3   1141.0        1144   1323.0   \n",
       "4  2008      5           4          7    815.0         820   1243.0   \n",
       "\n",
       "   CRSArrTime UniqueCarrier  FlightNum  ... TaxiIn  TaxiOut  Cancelled  \\\n",
       "0        2300            WN        242  ...    3.0      8.0          0   \n",
       "1        1728            XE       2380  ...    4.0     12.0          0   \n",
       "2        1520            WN       1769  ...    4.0      9.0          0   \n",
       "3        1335            OO       3802  ...    4.0     19.0          0   \n",
       "4        1300            WN        399  ...    4.0      8.0          0   \n",
       "\n",
       "   CancellationCode  Diverted  CarrierDelay WeatherDelay NASDelay  \\\n",
       "0               NaN         0           NaN          NaN      NaN   \n",
       "1               NaN         0           NaN          NaN      NaN   \n",
       "2               NaN         0           NaN          NaN      NaN   \n",
       "3               NaN         0           NaN          NaN      NaN   \n",
       "4               NaN         0           NaN          NaN      NaN   \n",
       "\n",
       "   SecurityDelay  LateAircraftDelay  \n",
       "0            NaN                NaN  \n",
       "1            NaN                NaN  \n",
       "2            NaN                NaN  \n",
       "3            NaN                NaN  \n",
       "4            NaN                NaN  \n",
       "\n",
       "[5 rows x 29 columns]"
      ]
     },
     "execution_count": 3,
     "metadata": {},
     "output_type": "execute_result"
    }
   ],
   "source": [
    "flights = pd.read_csv('2008.csv')\n",
    "\n",
    "flights_clean = flights[~flights.AirTime.isna() ]\n",
    "flights_clean = flights_clean[flights_clean.columns[~flights_clean.columns.isin(['Cancelled','Diverted', 'CancellationCode', 'TailNum', 'Year', 'ArrDelay'])]]\n",
    "flights_clean = flights_clean.reset_index(drop = True)\n",
    "\n",
    "flights.head()"
   ]
  },
  {
   "cell_type": "code",
   "execution_count": 10,
   "id": "polyphonic-merit",
   "metadata": {},
   "outputs": [],
   "source": [
    "output = flights_clean['DepDelay']\n",
    "predictor = flights_clean[flights_clean.columns[~flights_clean.columns.isin(['DepDelay'])]]\n"
   ]
  },
  {
   "cell_type": "markdown",
   "id": "elder-catalyst",
   "metadata": {},
   "source": [
    "### Transforming variables, filling NaN and rescaling"
   ]
  },
  {
   "cell_type": "code",
   "execution_count": 11,
   "id": "arabic-trail",
   "metadata": {},
   "outputs": [],
   "source": [
    "def timefeaturestransformation(df2, columns):\n",
    "    df = df2.copy()\n",
    "    for col in columns:\n",
    "        # first, we convert numeric to int, to get rid of comma and then take two last symbols\n",
    "        minute = df[col].astype('int32').astype('str').str[-2:]\n",
    "        hour = df[col].astype('int32').astype('str').str[:-2]\n",
    "        hour[hour == ''] = 0\n",
    "        df[col + '_Hour'] = hour.astype('int32')\n",
    "        df[col + '_Minute'] = minute.astype('int32')\n",
    "        #df[col + '_Hour'] = df[col + '_Hour'].astype('int32')\n",
    "    df = df[df.columns[~df.columns.isin(columns)]]\n",
    "    return(df)\n",
    "\n",
    "predictor_clean = timefeaturestransformation(predictor, ['DepTime', 'CRSDepTime', 'ArrTime', 'CRSArrTime'])\n",
    "   \n",
    "\n",
    "def transform_data(df):\n",
    "    # filling nan\n",
    "    numerics = ['int16', 'int32', 'int64', 'float16', 'float32', 'float64']\n",
    "    numeric_col = df.select_dtypes(include=numerics).fillna(0)\n",
    "    categorical_col = df.select_dtypes(exclude=numerics)\n",
    "    \n",
    "    # scaling numerical\n",
    "    scaler = StandardScaler()\n",
    "    transformed = (scaler.fit_transform(numeric_col))\n",
    "    numeric_tr = pd.DataFrame(transformed, columns=numeric_col.columns)#.reset_index()\n",
    "    \n",
    "    # dummy variable\n",
    "    categorical_tr = pd.get_dummies(categorical_col, prefix=categorical_col.columns)#.reset_index()\n",
    "    \n",
    "    out = pd.concat([numeric_tr, categorical_tr], axis=1)\n",
    "    return(out)\n",
    "\n",
    "predictor_transformed = transform_data(predictor_clean) \n"
   ]
  },
  {
   "cell_type": "markdown",
   "id": "iraqi-russian",
   "metadata": {},
   "source": [
    "### Gradient descent"
   ]
  },
  {
   "cell_type": "code",
   "execution_count": 54,
   "id": "utility-mobile",
   "metadata": {},
   "outputs": [],
   "source": [
    "def make_pred(X, w):\n",
    "    return(X.dot(w))\n",
    "\n",
    "\n",
    "def reverse(y):\n",
    "    w = np.zeros(y.shape, dtype=float)\n",
    "    ind = y != 0\n",
    "    w[ind] = 1./(y[ind]**2)\n",
    "    return w\n",
    "\n",
    "# calculates mspe error\n",
    "def mspe(X, y, w):\n",
    "    y_reverse = reverse(y)\n",
    "    y_hat = make_pred(X, w)\n",
    "    return(np.mean(np.multiply((y -y_hat)**2,y_reverse)))\n",
    "\n",
    "# calcualtes gradient of mspe function\n",
    "def get_grad(X,  y, w):\n",
    "    y_reverse = reverse(y)\n",
    "    X_tr = np.transpose(X)\n",
    "    y_hat = make_pred(X, w)\n",
    "    return(X_tr.dot(np.multiply(2*(y_hat - y),y_reverse)))/len(y)\n",
    "\n",
    "# calculates mspe with regularization\n",
    "def mspe_reg(X, y, w, alpha):\n",
    "    return mspe(X,y,w) + alpha*sum(w**2)\n",
    "\n",
    "\n",
    "# calculates gradient of mspe with regularization\n",
    "def get_reg_grad(X, y, w, alpha):\n",
    "    return np.add(get_grad(X,  y, w),2*alpha*w)\n",
    "\n",
    "\n",
    "# gradient descent algorithm\n",
    "def grad_descent(X, y, step_size, max_iter, eps,  w0, is_reg, alpha_reg):\n",
    "    mspe_values = pd.DataFrame()\n",
    "    w = w0\n",
    "    mspe_values = mspe_values.append(pd.DataFrame([[0, mspe(X,y,w)]], columns = ['iteration', 'mspe']))\n",
    "    i = 1\n",
    "    diff = 1\n",
    "    #gradient = 1\n",
    "    #while (np.sqrt(np.sum(gradient**2)) > eps):\n",
    "    while (diff > eps):\n",
    "        w_prev = w\n",
    "        if is_reg == 1:\n",
    "            gradient = get_reg_grad(X, y, w, alpha_reg)\n",
    "        else: \n",
    "            gradient = get_grad(X, y, w)\n",
    "        w = w - step_size*gradient\n",
    "        diff =np.sqrt( np.sum((w - w_prev) ** 2))\n",
    "        #print(\"[INFO] iteration #{}, loss={:.7f}\".format(i , error))\n",
    "        mspe_values = mspe_values.append(pd.DataFrame([[i, mspe(X,y,w)]], columns = ['iteration', 'mspe']))\n",
    "        if (i > max_iter):\n",
    "            break\n",
    "        i = i + 1\n",
    "    \n",
    "    return  w, mspe_values\n",
    "    \n"
   ]
  },
  {
   "cell_type": "markdown",
   "id": "monetary-absence",
   "metadata": {},
   "source": [
    "### Splitting dataset in test and control and initializing parameters"
   ]
  },
  {
   "cell_type": "code",
   "execution_count": 70,
   "id": "isolated-switzerland",
   "metadata": {},
   "outputs": [],
   "source": [
    "X_train, X_test, y_train, y_test = train_test_split(predictor_transformed, output, test_size=0.3, random_state=42)\n",
    "\n",
    "X_train.loc[:,'intercept'] = 1\n",
    "X_test.loc[:,'intercept'] = 1\n",
    "\n",
    "# initializing coefficients\n",
    "w0 = np.random.rand(1,X_train.shape[1])[0]\n"
   ]
  },
  {
   "cell_type": "code",
   "execution_count": 79,
   "id": "banned-invitation",
   "metadata": {},
   "outputs": [
    {
     "name": "stdout",
     "output_type": "stream",
     "text": [
      "train mspe 0.819, test mspe 0.863, execution time 1.2323 seconds\n"
     ]
    }
   ],
   "source": [
    "start_time = time.time()\n",
    "\n",
    "w, mspe_values = grad_descent(X_train[1:1000], y_train[1:1000], step_size = 0.1, \n",
    "                              max_iter = 100, eps = 0.0001,  w0 = w0, is_reg = 0, alpha_reg = 0.01)\n",
    "\n",
    "train_mspe = mspe(X_train[1:1000], y_train[1:1000],w)\n",
    "test_mspe = mspe(X_test, y_test,w)\n",
    "\n",
    "print(\"train mspe %s, test mspe %s, execution time %s seconds\"  % (round(train_mspe, 3), round(test_mspe,3), round(time.time() - start_time, 4)) )\n",
    "\n"
   ]
  },
  {
   "cell_type": "code",
   "execution_count": 68,
   "id": "iraqi-married",
   "metadata": {},
   "outputs": [
    {
     "data": {
      "text/plain": [
       "[<matplotlib.lines.Line2D at 0x7fefee369b90>]"
      ]
     },
     "execution_count": 68,
     "metadata": {},
     "output_type": "execute_result"
    },
    {
     "data": {
      "image/png": "[encoded data removed]",
      "text/plain": [
       "<Figure size 432x288 with 1 Axes>"
      ]
     },
     "metadata": {
      "needs_background": "light"
     },
     "output_type": "display_data"
    }
   ],
   "source": [
    "plt.plot(mspe_values.iteration, mspe_values.mspe)"
   ]
  },
  {
   "cell_type": "markdown",
   "id": "statistical-drama",
   "metadata": {},
   "source": [
    "### Gradient descent for function with regularization"
   ]
  },
  {
   "cell_type": "code",
   "execution_count": 61,
   "id": "ideal-recipe",
   "metadata": {},
   "outputs": [
    {
     "name": "stdout",
     "output_type": "stream",
     "text": [
      "2.050599832452834 2.0958158269504654\n"
     ]
    },
    {
     "data": {
      "image/png": "[encoded data removed]",
      "text/plain": [
       "<Figure size 432x288 with 1 Axes>"
      ]
     },
     "metadata": {
      "needs_background": "light"
     },
     "output_type": "display_data"
    }
   ],
   "source": [
    "w, mspe_values = grad_descent(X_train[1:1000], y_train[1:1000], step_size = 0.1, \n",
    "                              max_iter = 100, eps = 0.0001,  w0 = w0, is_reg = 1, alpha_reg = 0.01)\n",
    "plt.plot(mspe_values.iteration, mspe_values.mspe)\n",
    "\n",
    "\n",
    "print(mspe_reg(X_train[1:1000], y_train[1:1000],w,  alpha = 0.01), mspe_reg(X_test, y_test,w, alpha = 0.01))"
   ]
  },
  {
   "cell_type": "markdown",
   "id": "prospective-sense",
   "metadata": {},
   "source": [
    "### Stochastic gradient descent"
   ]
  },
  {
   "cell_type": "code",
   "execution_count": 77,
   "id": "czech-adolescent",
   "metadata": {},
   "outputs": [],
   "source": [
    "def sgd(X, y, step_size, max_iter, eps, w0, is_reg, alpha_reg, batch_size):\n",
    "    mspe_values = pd.DataFrame()\n",
    "    w = w0\n",
    "    mspe_values = mspe_values.append(pd.DataFrame([[0, mspe(X,y,w)]], columns = ['iteration', 'mspe']))\n",
    "    i = 1\n",
    "    diff = 1\n",
    "    while (diff > eps):\n",
    "        w_prev = w\n",
    "        grad_index = np.random.randint(0,(len(X.index)-batch_size))\n",
    "        X_ss = X[i:i+batch_size]\n",
    "        y_ss = y[i:i+batch_size]\n",
    "        if is_reg == 1:\n",
    "            gradient = get_reg_grad(X_ss, y_ss, w, alpha_reg)\n",
    "        else: \n",
    "            gradient = get_grad(X_ss, y_ss, w)\n",
    "        w = w - step_size*gradient\n",
    "        diff =np.sqrt( np.sum((w - w_prev) ** 2))\n",
    "        mspe_values = mspe_values.append(pd.DataFrame([[i, mspe(X,y,w)]], columns = ['iteration', 'mspe']))\n",
    "        #print(\"[INFO] iteration #{}, loss={:.7f}\".format(i , error))\n",
    "        if (i > max_iter):\n",
    "            break\n",
    "        i = i + 1\n",
    "    \n",
    "    return  w, mspe_values\n"
   ]
  },
  {
   "cell_type": "code",
   "execution_count": 80,
   "id": "attractive-elimination",
   "metadata": {},
   "outputs": [
    {
     "name": "stdout",
     "output_type": "stream",
     "text": [
      "train mspe 0.925, test mspe 0.935, execution time 0.8797 seconds\n"
     ]
    }
   ],
   "source": [
    "start_time = time.time()\n",
    "w, mspe_values = sgd(X_train[1:1000], y_train[1:1000], step_size = 0.1, \n",
    "                              max_iter = 100, eps = 0.0001,  w0 = w0, is_reg = 1, alpha_reg = 0.01, batch_size = 40)\n",
    "\n",
    "train_mspe = mspe(X_train[1:1000], y_train[1:1000],w)\n",
    "test_mspe = mspe(X_test, y_test,w)\n",
    "\n",
    "print(\"train mspe %s, test mspe %s, execution time %s seconds\"  % (round(train_mspe, 3), round(test_mspe,3), round(time.time() - start_time, 4)) )\n"
   ]
  },
  {
   "cell_type": "markdown",
   "id": "cloudy-bobby",
   "metadata": {},
   "source": [
    "Execution is faster for SGD"
   ]
  },
  {
   "cell_type": "code",
   "execution_count": null,
   "id": "governing-january",
   "metadata": {},
   "outputs": [],
   "source": []
  }
 ],
 "metadata": {
  "kernelspec": {
   "display_name": "Python 3",
   "language": "python",
   "name": "python3"
  },
  "language_info": {
   "codemirror_mode": {
    "name": "ipython",
    "version": 3
   },
   "file_extension": ".py",
   "mimetype": "text/x-python",
   "name": "python",
   "nbconvert_exporter": "python",
   "pygments_lexer": "ipython3",
   "version": "3.7.7"
  }
 },
 "nbformat": 4,
 "nbformat_minor": 5
}
